{
  "nbformat": 4,
  "nbformat_minor": 0,
  "metadata": {
    "colab": {
      "name": "SuperAI_Usecase1.ipynb",
      "private_outputs": true,
      "provenance": []
    },
    "kernelspec": {
      "name": "python3",
      "display_name": "Python 3"
    },
    "language_info": {
      "name": "python"
    }
  },
  "cells": [
    {
      "cell_type": "markdown",
      "metadata": {
        "id": "6lrGkgGoR3dp"
      },
      "source": [
        "# Machine Learning Process\n",
        "# 1. Get Data\n"
      ]
    },
    {
      "cell_type": "code",
      "metadata": {
        "id": "4xe7ScaG_WnE"
      },
      "source": [
        "import pandas as pd\n",
        "df = pd.read_csv(\"/content/bank-data.csv\")\n",
        "df"
      ],
      "execution_count": null,
      "outputs": []
    },
    {
      "cell_type": "markdown",
      "metadata": {
        "id": "3w_G0YziSaHY"
      },
      "source": [
        "# 2. Clean Data and Data Preparation\n"
      ]
    },
    {
      "cell_type": "code",
      "metadata": {
        "id": "el98cF3IR28r"
      },
      "source": [
        "df.shape"
      ],
      "execution_count": null,
      "outputs": []
    },
    {
      "cell_type": "code",
      "metadata": {
        "id": "hKI_6l17b8PP"
      },
      "source": [
        "df.describe()"
      ],
      "execution_count": null,
      "outputs": []
    },
    {
      "cell_type": "code",
      "metadata": {
        "id": "CMGBqpEvdYrm"
      },
      "source": [
        "df.dtypes"
      ],
      "execution_count": null,
      "outputs": []
    },
    {
      "cell_type": "code",
      "metadata": {
        "id": "nhgjkj13enER"
      },
      "source": [
        "df.isnull().sum()"
      ],
      "execution_count": null,
      "outputs": []
    },
    {
      "cell_type": "code",
      "metadata": {
        "id": "YTMTXEviirDN"
      },
      "source": [
        "df['income'] = df['income'].fillna(df['income'].mean())"
      ],
      "execution_count": null,
      "outputs": []
    },
    {
      "cell_type": "code",
      "metadata": {
        "id": "BRPMpXglishd"
      },
      "source": [
        "df.isnull().sum()"
      ],
      "execution_count": null,
      "outputs": []
    },
    {
      "cell_type": "code",
      "metadata": {
        "id": "-GDzuTU_jf8-"
      },
      "source": [
        "df.dtypes"
      ],
      "execution_count": null,
      "outputs": []
    },
    {
      "cell_type": "code",
      "metadata": {
        "id": "SVCCng76iwcu"
      },
      "source": [
        "from sklearn.preprocessing import LabelEncoder\n",
        "# creating instance of labelencoder\n",
        "labelencoder = LabelEncoder()\n",
        "df['sex'] = labelencoder.fit_transform(df['sex'])\n",
        "df['region'] = labelencoder.fit_transform(df['region'])\n",
        "df['married'] = labelencoder.fit_transform(df['married'])\n",
        "df['car'] = labelencoder.fit_transform(df['car'])\n",
        "df['save_act'] = labelencoder.fit_transform(df['save_act'])\n",
        "df['current_act'] = labelencoder.fit_transform(df['current_act'])\n",
        "df['mortgage'] = labelencoder.fit_transform(df['mortgage'])\n",
        "df['credit'] = labelencoder.fit_transform(df['credit'])"
      ],
      "execution_count": null,
      "outputs": []
    },
    {
      "cell_type": "code",
      "metadata": {
        "id": "DrPE6h64kgp-"
      },
      "source": [
        "df.head(20)"
      ],
      "execution_count": null,
      "outputs": []
    },
    {
      "cell_type": "code",
      "metadata": {
        "id": "Rkxg4hYsnHna"
      },
      "source": [
        "df.groupby('credit')['income'].mean()"
      ],
      "execution_count": null,
      "outputs": []
    },
    {
      "cell_type": "code",
      "metadata": {
        "id": "ySvWarF-nUGY"
      },
      "source": [
        "df.dtypes"
      ],
      "execution_count": null,
      "outputs": []
    },
    {
      "cell_type": "code",
      "metadata": {
        "id": "332ZnyKUntcP"
      },
      "source": [
        "df = df.drop(['id'],axis=1)"
      ],
      "execution_count": null,
      "outputs": []
    },
    {
      "cell_type": "code",
      "metadata": {
        "id": "_XX2ntN0oDvd"
      },
      "source": [
        "df.columns"
      ],
      "execution_count": null,
      "outputs": []
    },
    {
      "cell_type": "markdown",
      "metadata": {
        "id": "1v4grvJPo6ne"
      },
      "source": [
        "# 3. Select Model and Model Constraction"
      ]
    },
    {
      "cell_type": "markdown",
      "metadata": {
        "id": "oWq9TpjkqGBw"
      },
      "source": [
        "3.1 Naive Bayes"
      ]
    },
    {
      "cell_type": "code",
      "metadata": {
        "id": "dEPmw5CTotO8"
      },
      "source": [
        "from sklearn.naive_bayes import GaussianNB\n",
        "\n",
        "x = df.drop(['credit'],axis=1)\n",
        "y = df.credit\n",
        "\n",
        "\n",
        "# Split dataset into training set and test set \n",
        "from sklearn.model_selection import train_test_split\n",
        "\n",
        "train_data, test_data, train_y, test_y = train_test_split(x, y, test_size=0.30, shuffle=False)\n",
        "\n",
        "\n",
        "# Create NB classifer object\n",
        "NBclassifier = GaussianNB()\n",
        "\n",
        "# Train NB Classifer\n",
        "NBclassifier.fit(train_data,train_y)\n",
        "\n",
        "# Test Data\n",
        "y_predict = NBclassifier.predict(test_data)"
      ],
      "execution_count": null,
      "outputs": []
    },
    {
      "cell_type": "code",
      "metadata": {
        "id": "byNJnA_FptO2"
      },
      "source": [
        "y_predict"
      ],
      "execution_count": null,
      "outputs": []
    },
    {
      "cell_type": "code",
      "metadata": {
        "id": "f_lsgvWTpxWS"
      },
      "source": [
        "from sklearn import metrics\n",
        "print(\"Accuracy:\",metrics.accuracy_score(test_y,y_predict))"
      ],
      "execution_count": null,
      "outputs": []
    },
    {
      "cell_type": "code",
      "metadata": {
        "id": "482mwQ8y2T4Q"
      },
      "source": [
        "from sklearn.metrics import classification_report,confusion_matrix\n",
        "\n",
        "print(classification_report(test_y,y_predict))"
      ],
      "execution_count": null,
      "outputs": []
    },
    {
      "cell_type": "code",
      "metadata": {
        "id": "EpTzWMSz2P3K"
      },
      "source": [
        "import matplotlib.pyplot as plt\n",
        "from mlxtend.plotting import plot_confusion_matrix\n",
        "cm = confusion_matrix(test_y,y_predict)\n",
        "fig, ax = plot_confusion_matrix(conf_mat=cm)\n",
        "plt.show()"
      ],
      "execution_count": null,
      "outputs": []
    },
    {
      "cell_type": "code",
      "metadata": {
        "id": "rjaLgCFP3Nf6"
      },
      "source": [
        "x"
      ],
      "execution_count": null,
      "outputs": []
    },
    {
      "cell_type": "code",
      "metadata": {
        "id": "g-qQogvq3Bgz"
      },
      "source": [
        "y_predict_NB_unseen =  NBclassifier.predict([[41, 0, 0, 20000, 1, 2, 1, 1, 1, 0]])\n",
        "print(y_predict_NB_unseen)"
      ],
      "execution_count": null,
      "outputs": []
    },
    {
      "cell_type": "markdown",
      "metadata": {
        "id": "HWhHYg4nqMCi"
      },
      "source": [
        "3.2 Decision Tree\n"
      ]
    },
    {
      "cell_type": "code",
      "metadata": {
        "id": "HrvRent0qArN"
      },
      "source": [
        "from sklearn.tree import DecisionTreeClassifier, export_graphviz\n",
        "from sklearn import tree\n",
        "\n",
        "x = df.drop(['credit'],axis=1)\n",
        "y = df.credit\n",
        "\n",
        "\n",
        "# Split dataset into training set and test set \n",
        "from sklearn.model_selection import train_test_split\n",
        "\n",
        "train_data, test_data, train_y, test_y = train_test_split(x, y, test_size=0.30, shuffle=False)\n",
        "\n",
        "\n",
        "# Create Decision Tree classifer object\n",
        "decision_tree_classifier = DecisionTreeClassifier(criterion=\"entropy\", max_depth=None)\n",
        "\n",
        "# Train Decision Tree Classifer\n",
        "decision_tree_classifier.fit(train_data,train_y)\n",
        "\n",
        "y_predict = decision_tree_classifier.predict(test_data)\n",
        "y_predict"
      ],
      "execution_count": null,
      "outputs": []
    },
    {
      "cell_type": "code",
      "metadata": {
        "id": "0jXAB6395gpp"
      },
      "source": [
        "decision_tree_classifier"
      ],
      "execution_count": null,
      "outputs": []
    },
    {
      "cell_type": "code",
      "metadata": {
        "id": "T9tkbFN8qblx"
      },
      "source": [
        "from sklearn import metrics\n",
        "print(\"Accuracy:\",metrics.accuracy_score(test_y,y_predict))"
      ],
      "execution_count": null,
      "outputs": []
    },
    {
      "cell_type": "code",
      "metadata": {
        "id": "JUvVXIPk0l6v"
      },
      "source": [
        "from sklearn.metrics import classification_report,confusion_matrix\n",
        "\n",
        "print(classification_report(test_y,y_predict))"
      ],
      "execution_count": null,
      "outputs": []
    },
    {
      "cell_type": "code",
      "metadata": {
        "id": "FmCiUB2A0WY7"
      },
      "source": [
        "import matplotlib.pyplot as plt\n",
        "from mlxtend.plotting import plot_confusion_matrix\n",
        "cm = confusion_matrix(test_y,y_predict)\n",
        "fig, ax = plot_confusion_matrix(conf_mat=cm)\n",
        "plt.show()"
      ],
      "execution_count": null,
      "outputs": []
    },
    {
      "cell_type": "code",
      "metadata": {
        "id": "zIWDbKh-3s-Z"
      },
      "source": [
        "y_predict_DT_unseen =  decision_tree_classifier.predict([[41, 0, 0, 20000, 1, 2, 1, 1, 1, 0]])\n",
        "print(y_predict_DT_unseen)"
      ],
      "execution_count": null,
      "outputs": []
    },
    {
      "cell_type": "markdown",
      "metadata": {
        "id": "Mc8-wNlU-xKp"
      },
      "source": [
        "Decision Tree: Data Visualization Graph "
      ]
    },
    {
      "cell_type": "code",
      "metadata": {
        "id": "ehlGh3uI-301"
      },
      "source": [
        "import pydotplus\n",
        "from sklearn import tree\n",
        "from IPython.display import Image\n",
        "\n",
        "data_feature_names = x.columns\n",
        "creditclass = ['no', 'yes']\n",
        "\n",
        "dot_data = export_graphviz(decision_tree_classifier, out_file=None, feature_names=data_feature_names, class_names=creditclass, filled=True, rounded=True)\n",
        "graph = pydotplus.graph_from_dot_data(dot_data)\n",
        "graph.write_png('DT_tree.png')\n",
        "Image(graph.create_png())"
      ],
      "execution_count": null,
      "outputs": []
    }
  ]
}